{
 "metadata": {
  "name": ""
 },
 "nbformat": 3,
 "nbformat_minor": 0,
 "worksheets": [
  {
   "cells": [
    {
     "cell_type": "markdown",
     "metadata": {},
     "source": [
      "from http://nbviewer.ipython.org/github/rasbt/algorithms_in_ipython_notebooks/blob/master/ipython_nbs/sorting/sorting_algorithms.ipynb?create=1#Bubble-sort"
     ]
    },
    {
     "cell_type": "code",
     "collapsed": false,
     "input": [
      "def python_bubblesort(a_list):\n",
      "    \"\"\" Bubblesort in Python for list objects (sorts in place).\"\"\"\n",
      "    length = len(a_list)\n",
      "    for i in range(length):\n",
      "        for j in range(1, length):\n",
      "            if a_list[j] < a_list[j-1]:\n",
      "                a_list[j-1], a_list[j] = a_list[j], a_list[j-1]\n",
      "    return a_list"
     ],
     "language": "python",
     "metadata": {},
     "outputs": [],
     "prompt_number": 1
    },
    {
     "cell_type": "code",
     "collapsed": false,
     "input": [
      "def python_bubblesort_improved(a_list):\n",
      "    \"\"\" Bubblesort in Python for list objects (sorts in place).\"\"\"\n",
      "    length = len(a_list)\n",
      "    swapped = 1\n",
      "    for i in range(length):\n",
      "        if swapped: \n",
      "            swapped = 0\n",
      "            for ele in range(length-i-1):\n",
      "                if a_list[ele] > a_list[ele + 1]:\n",
      "                    temp = a_list[ele + 1]\n",
      "                    a_list[ele + 1] = a_list[ele]\n",
      "                    a_list[ele] = temp\n",
      "                    swapped = 1\n",
      "    return a_list"
     ],
     "language": "python",
     "metadata": {},
     "outputs": [],
     "prompt_number": 2
    },
    {
     "cell_type": "code",
     "collapsed": false,
     "input": [
      "import random\n",
      "import copy\n",
      "random.seed(4354353)\n",
      "\n",
      "l = [random.randint(1,1000) for num in range(1, 1000)]\n",
      "l_sorted = sorted(l)\n",
      "for f in [python_bubblesort, python_bubblesort_improved]:\n",
      "    assert(l_sorted  == f(copy.copy(l)))\n",
      "print('Bubblesort works correctly')"
     ],
     "language": "python",
     "metadata": {},
     "outputs": [
      {
       "output_type": "stream",
       "stream": "stdout",
       "text": [
        "Bubblesort works correctly\n"
       ]
      }
     ],
     "prompt_number": 3
    },
    {
     "cell_type": "code",
     "collapsed": false,
     "input": [
      "# small list\n",
      "\n",
      "l_small = [random.randint(1,100) for num in range(1, 100)]\n",
      "l_small_cp = copy.copy(l_small)\n",
      "\n",
      "%timeit python_bubblesort(l_small)\n",
      "%timeit python_bubblesort_improved(l_small_cp)"
     ],
     "language": "python",
     "metadata": {},
     "outputs": [
      {
       "output_type": "stream",
       "stream": "stdout",
       "text": [
        "1000 loops, best of 3: 1.4 ms per loop\n",
        "100000 loops, best of 3: 19 \u00b5s per loop"
       ]
      },
      {
       "output_type": "stream",
       "stream": "stdout",
       "text": [
        "\n"
       ]
      }
     ],
     "prompt_number": 4
    }
   ],
   "metadata": {}
  }
 ]
}
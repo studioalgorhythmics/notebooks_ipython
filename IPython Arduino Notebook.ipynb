{
 "metadata": {
  "name": ""
 },
 "nbformat": 3,
 "nbformat_minor": 0,
 "worksheets": [
  {
   "cells": [
    {
     "cell_type": "heading",
     "level": 1,
     "metadata": {},
     "source": [
      "Arduino in IPython"
     ]
    },
    {
     "cell_type": "heading",
     "level": 3,
     "metadata": {},
     "source": [
      "Import the Libraries"
     ]
    },
    {
     "cell_type": "code",
     "collapsed": false,
     "input": [
      "from IPython.display import clear_output\n",
      "from time import sleep\n",
      "import serial\n",
      "import os\n",
      "import sys"
     ],
     "language": "python",
     "metadata": {},
     "outputs": [],
     "prompt_number": 39
    },
    {
     "cell_type": "heading",
     "level": 3,
     "metadata": {},
     "source": [
      "LED on/off"
     ]
    },
    {
     "cell_type": "code",
     "collapsed": false,
     "input": [
      "import serial\n",
      "ser = serial.Serial('/dev/tty.usbmodem1411', 9600) # Establish the connection on a specific port\n",
      "ser.write('on')"
     ],
     "language": "python",
     "metadata": {},
     "outputs": [
      {
       "metadata": {},
       "output_type": "pyout",
       "prompt_number": 41,
       "text": [
        "2"
       ]
      }
     ],
     "prompt_number": 41
    },
    {
     "cell_type": "code",
     "collapsed": false,
     "input": [
      "import serial\n",
      "ser = serial.Serial('/dev/tty.usbmodem1411', 9600) # Establish the connection on a specific port\n",
      "ser.write('off')"
     ],
     "language": "python",
     "metadata": {},
     "outputs": [
      {
       "metadata": {},
       "output_type": "pyout",
       "prompt_number": 42,
       "text": [
        "3"
       ]
      }
     ],
     "prompt_number": 42
    },
    {
     "cell_type": "heading",
     "level": 3,
     "metadata": {},
     "source": [
      "Blinking"
     ]
    },
    {
     "cell_type": "code",
     "collapsed": false,
     "input": [
      "import time, sys\n",
      "import serial\n",
      "ser = serial.Serial('/dev/tty.usbmodem1411', 57600) # Establish the connection on a specific port\n",
      "\n",
      "for i in range(100):\n",
      "    ser.write('on')\n",
      "    time.sleep(0.4) #24Hz\n",
      "    ser.write('off')\n",
      "    time.sleep(0.4)"
     ],
     "language": "python",
     "metadata": {},
     "outputs": [],
     "prompt_number": 43
    },
    {
     "cell_type": "markdown",
     "metadata": {},
     "source": [
      "    time.sleep(0.014) seems to be a lower limit"
     ]
    },
    {
     "cell_type": "markdown",
     "metadata": {},
     "source": [
      "Works with:"
     ]
    },
    {
     "cell_type": "raw",
     "metadata": {},
     "source": [
      "    /*\n",
      "    Simple LED sketch\n",
      "    */\n",
      "    int led = 13; // Pin 13\n",
      "    void setup()\n",
      "    {\n",
      "    pinMode(led, OUTPUT); // Set pin 13 as digital out\n",
      "    // Start up serial connection\n",
      "    Serial.begin(57600); // baud rate\n",
      "    Serial.flush();\n",
      "    }\n",
      "    void loop()\n",
      "    {\n",
      "    String input = \"\";\n",
      "    // Read any serial input\n",
      "    while (Serial.available() > 0)\n",
      "    {\n",
      "    input += (char) Serial.read(); // Read in one char at a time\n",
      "    delay(1); // Delay for 5 ms so the next char has time to be received\n",
      "    }\n",
      "    if (input == \"on\")\n",
      "    {\n",
      "    digitalWrite(led, HIGH); // on\n",
      "    }\n",
      "    else if (input == \"off\")\n",
      "    {\n",
      "    digitalWrite(led, LOW); // off\n",
      "    }\n",
      "    }"
     ]
    }
   ],
   "metadata": {}
  }
 ]
}